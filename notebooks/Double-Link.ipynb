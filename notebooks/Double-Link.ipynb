{
 "cells": [
  {
   "cell_type": "markdown",
   "metadata": {
    "_cell_guid": "7445ca17-ba16-4799-9ef0-943b70ab94aa",
    "_uuid": "95d20811401a1319787f8226c69a71cce033d7a5"
   },
   "source": [
    "# TARUN SUNKARANENI'S Hierarchical and Point-Clustering Notebook Pt. 2"
   ]
  },
  {
   "cell_type": "code",
   "execution_count": 2,
   "metadata": {
    "_cell_guid": "b1076dfc-b9ad-4769-8c92-a6c4dae69d19",
    "_uuid": "8f2839f25d086af736a60e9eeb907d3b93b6e0e5"
   },
   "outputs": [],
   "source": [
    "import numpy as np # linear algebra\n",
    "import pandas as pd # data processing, CSV file I/O (e.g. pd.read_csv)\n",
    "from scipy.cluster.hierarchy import dendrogram, linkage\n",
    "from scipy.spatial.distance import cdist\n",
    "from matplotlib import pyplot as plt\n",
    "from scipy.spatial import distance\n",
    "import math\n",
    "%matplotlib inline\n",
    "np.set_printoptions(precision=5, suppress=True)  # suppress scientific float notation"
   ]
  },
  {
   "cell_type": "code",
   "execution_count": 3,
   "metadata": {
    "_cell_guid": "79c7e3d0-c299-4dcb-8224-4455121ee9b0",
    "_uuid": "d629ff2d2480ee46fbb7e2d37f6b5fab8052498a"
   },
   "outputs": [],
   "source": [
    "c1 = pd.read_csv(\"../input/C1.csv\", names=['x0', 'x1'])"
   ]
  },
  {
   "cell_type": "markdown",
   "metadata": {
    "_cell_guid": "351e3587-c6f7-4828-9633-49b1ae351e21",
    "_uuid": "7986cbee0e499844dd23711172eb956bd8a140a8"
   },
   "source": [
    "# Complete-Link Hierarchical\n",
    "### Complete-Link: measures the shortest link as \n",
    "$\\displaystyle{\\textbf{d}(S_1,S_2) = \\max_{(s_1,s_2) \\in S_1 \\times S_2} \\|s_1 - s_2\\|_2}$. "
   ]
  },
  {
   "cell_type": "code",
   "execution_count": 3,
   "metadata": {
    "_cell_guid": "732be8e3-36e9-427f-aba1-6774c94fd632",
    "_uuid": "60dc1e4e062975f164ed9f77dc77b0a8cc95a486"
   },
   "outputs": [
    {
     "data": {
      "text/plain": [
       "<matplotlib.collections.PathCollection at 0x61c8e7d30>"
      ]
     },
     "execution_count": 3,
     "metadata": {},
     "output_type": "execute_result"
    },
    {
     "data": {
      "image/png": "[encoded data removed]",
      "text/plain": [
       "<matplotlib.figure.Figure at 0x616eaff60>"
      ]
     },
     "metadata": {},
     "output_type": "display_data"
    }
   ],
   "source": [
    "plt.scatter(c1['x0'],c1['x1'])"
   ]
  },
  {
   "cell_type": "code",
   "execution_count": 4,
   "metadata": {
    "_cell_guid": "ed08a12f-2e46-4a07-9db7-c393d0672d54",
    "_uuid": "b51a1eec719d2c1f67aa6f3bdc294410ecc5a1d5"
   },
   "outputs": [],
   "source": [
    "def complete_distance(clusters ,cluster_num):\n",
    "    print('first cluster | ','second cluster | ', 'distance')\n",
    "    while len(clusters) is not cluster_num:\n",
    "        # Clustering           (\n",
    "        closest_distance=clust_1=clust_2 = math.inf\n",
    "        # for every cluster (until second last element)\n",
    "        for cluster_id, cluster in enumerate(clusters[:len(clusters)]): \n",
    "            for cluster2_id, cluster2 in enumerate(clusters[(cluster_id+1):]):  \n",
    "                furthest_cluster_dist = -1\n",
    "# this is different from the complete link in that we try to minimize the MAX distance\n",
    "# between CLUSTERS\n",
    "                # go through every point in this prospective cluster as well\n",
    "                # for each point in each cluster\n",
    "                for point_id,point in enumerate(cluster): \n",
    "                    for point2_id, point2 in enumerate(cluster2):\n",
    "# make sure that our furthest distance holds the maximum distance betweeen the clusters at focus\n",
    "                        if furthest_cluster_dist < distance.euclidean(point,point2): \n",
    "                            furthest_cluster_dist = distance.euclidean(point,point2)\n",
    "# We are now trying to minimize THAT furthest dist\n",
    "                if furthest_cluster_dist < closest_distance:\n",
    "                    closest_distance = furthest_cluster_dist\n",
    "                    clust_1 = cluster_id\n",
    "                    clust_2 = cluster2_id+cluster_id+1\n",
    "               # extend just appends the contents to the list without flattening it out\n",
    "        print(clust_1,' | ',clust_2, ' | ',closest_distance)\n",
    "        clusters[clust_1].extend(clusters[clust_2]) \n",
    "        # don't need this index anymore, and we have just clustered once more\n",
    "        clusters.pop(clust_2) \n",
    "    return(clusters)"
   ]
  },
  {
   "cell_type": "code",
   "execution_count": 5,
   "metadata": {
    "_cell_guid": "fcf579fe-4e4a-4d69-a92e-04119037ffa4",
    "_uuid": "7ac6575fef403ea9354afa2956c82a954f78f1b1"
   },
   "outputs": [],
   "source": [
    "### Hierarchical clustering\n",
    "def hierarchical(data, cluster_num, metric = 'complete'):\n",
    "    # initialization of clusters at first (every point is a cluster)\n",
    "    init_clusters=[]\n",
    "    for index, row in data.iterrows():\n",
    "        init_clusters.append([[row['x0'], row['x1']]])\n",
    "    if metric is 'complete':\n",
    "        return complete_distance(init_clusters, cluster_num)"
   ]
  },
  {
   "cell_type": "code",
   "execution_count": 6,
   "metadata": {
    "_cell_guid": "5e55d022-b0ef-44f4-8f49-dbb606e5e5ab",
    "_uuid": "5844aea1089f7ba818861b8f16b494a76f2f016a"
   },
   "outputs": [
    {
     "name": "stdout",
     "output_type": "stream",
     "text": [
      "first cluster |  second cluster |  distance\n",
      "2  |  3  |  0.15085042956518227\n",
      "15  |  16  |  0.15501250939640307\n",
      "16  |  17  |  0.1679299964569166\n",
      "13  |  14  |  0.17501291697817623\n",
      "4  |  5  |  0.19186599490269243\n",
      "10  |  11  |  0.19888079280176854\n",
      "5  |  6  |  0.20597708099371148\n",
      "7  |  8  |  0.2126411284874588\n",
      "11  |  12  |  0.35953226092257706\n",
      "3  |  4  |  0.4073438351073943\n",
      "4  |  5  |  0.4178159995817896\n",
      "0  |  1  |  0.47931424457263944\n",
      "6  |  7  |  0.4873016438456984\n",
      "4  |  5  |  0.6186579968943826\n",
      "2  |  6  |  0.9099990366171274\n",
      "1  |  5  |  1.0958744328174146\n",
      "3  |  4  |  1.2504959778494371\n"
     ]
    },
    {
     "data": {
      "image/png": "[encoded data removed]",
      "text/plain": [
       "<matplotlib.figure.Figure at 0x616efd4e0>"
      ]
     },
     "metadata": {},
     "output_type": "display_data"
    }
   ],
   "source": [
    "clusters = hierarchical(c1,4)\n",
    "colors = ['green', 'purple', 'teal', 'red']\n",
    "for cluster_index, cluster in enumerate(clusters):\n",
    "    for point_index, point in enumerate(cluster):\n",
    "        plt.plot([point[0]], [point[1]], marker='o', markersize=3, color=colors[cluster_index])"
   ]
  },
  {
   "cell_type": "markdown",
   "metadata": {
    "_cell_guid": "37c15a51-988b-4e19-bff4-772e895ae373",
    "_uuid": "a45109da7f08f18942887a6342cccb7102c8562a"
   },
   "source": [
    "> # Validation "
   ]
  },
  {
   "cell_type": "markdown",
   "metadata": {
    "_cell_guid": "29e3c333-bec9-4cc3-bca8-5f1cffe5b2e6",
    "_uuid": "e806396611f45220b8b4e54d40ab10b92233fc87"
   },
   "source": [
    "Credit to [https://joernhees.de/blog/2015/08/26/scipy-hierarchical-clustering-and-dendrogram-tutorial/](http://) for this Validation portion"
   ]
  },
  {
   "cell_type": "code",
   "execution_count": 7,
   "metadata": {
    "_cell_guid": "ff676b94-11b6-4cc2-a275-205a7940d37d",
    "_uuid": "8e48fe89504b6ef77441535a9b230673dac14794"
   },
   "outputs": [],
   "source": [
    "X = c1.as_matrix()\n",
    "# generate the linkage matrix\n",
    "complete_link = linkage(X, 'complete') # using complete link metric to evaluate 'distance' between clusters"
   ]
  },
  {
   "cell_type": "markdown",
   "metadata": {
    "_cell_guid": "bdce6f98-41e2-4423-8792-ecea63dfd98e",
    "_uuid": "8af5b2f8fd31e191d1c9ab85a260aac96b31391f"
   },
   "source": [
    " As you can see there's a lot of choice here and while python and scipy make it very easy to do the clustering, it's you who has to understand and make these choices.. This  compares the actual pairwise distances of all your samples to those implied by the hierarchical clustering. \n",
    " > The closer the value is to `1`, the better the clustering preserves the original distances, which in our case is reasonably close:"
   ]
  },
  {
   "cell_type": "code",
   "execution_count": 8,
   "metadata": {
    "_cell_guid": "942dbb47-8294-4c31-823c-2178063886ee",
    "_uuid": "6802058ae18b8002ce53f49d3c1410cf69453fac"
   },
   "outputs": [],
   "source": [
    "from scipy.cluster.hierarchy import cophenet\n",
    "from scipy.spatial.distance import pdist"
   ]
  },
  {
   "cell_type": "code",
   "execution_count": 9,
   "metadata": {
    "_cell_guid": "1ede65a3-2ad5-4d26-88a8-b1fadad7d134",
    "_uuid": "f542b5ca3101e954fb3183b30d82020288995fa9"
   },
   "outputs": [
    {
     "data": {
      "text/plain": [
       "0.82163457864334211"
      ]
     },
     "execution_count": 9,
     "metadata": {},
     "output_type": "execute_result"
    }
   ],
   "source": [
    "c, coph_dists = cophenet(complete_link, pdist(X))\n",
    "c"
   ]
  },
  {
   "cell_type": "markdown",
   "metadata": {
    "_cell_guid": "2b11601d-cef8-4ab0-a8f2-87059ae3035a",
    "_uuid": "f58d83dc3f0088882236136f95acbb1ec3c0a76b"
   },
   "source": [
    "No matter what method and metric you pick, the linkage() function will use that method and metric to calculate the distances of the clusters (starting with your n individual samples (aka data points) as singleton clusters)) and in each iteration will merge the two clusters which have the smallest distance according the selected method and metric. It will return an array of length `n - 1` giving you information about the `n - 1` cluster merges which it needs to pairwise merge n clusters. `complete_link[i]` will tell us which clusters were merged in the i-th iteration, let's take a look at the first two points that were merged:"
   ]
  },
  {
   "cell_type": "code",
   "execution_count": 10,
   "metadata": {
    "_cell_guid": "ed815a3f-5d02-46cb-a786-6baebcb70f35",
    "_uuid": "a90636df373f60a78a246e9ea8ef084915b4f28f"
   },
   "outputs": [
    {
     "data": {
      "text/plain": [
       "array([ 2.     ,  3.     ,  0.15085,  2.     ])"
      ]
     },
     "execution_count": 10,
     "metadata": {},
     "output_type": "execute_result"
    }
   ],
   "source": [
    "complete_link[0]"
   ]
  },
  {
   "cell_type": "markdown",
   "metadata": {
    "_cell_guid": "63f150f5-7465-47e9-ae26-3a99714ff486",
    "_uuid": "1872fcb6b3f3d4d149338fbf6a9fd7bfdb7f2a13"
   },
   "source": [
    "In its first iteration the linkage algorithm decided to merge the two clusters  with indices `2` and `3`, as they only had a distance of `0.15085`. This created a cluster with a total of `2` samples. \n",
    "> We can see that each row of the resulting array has the format `[idx1, idx2, dist, sample_count].`\n",
    "\n",
    "\n"
   ]
  },
  {
   "cell_type": "code",
   "execution_count": 11,
   "metadata": {
    "_cell_guid": "83c4dcf0-8e2a-4d86-be88-2e44869dddf8",
    "_uuid": "d7e849b02c030191a4a7aedb36b612ccbfb0ebf5"
   },
   "outputs": [
    {
     "data": {
      "text/plain": [
       "array([ 16.     ,  17.     ,   0.15501,   2.     ])"
      ]
     },
     "execution_count": 11,
     "metadata": {},
     "output_type": "execute_result"
    }
   ],
   "source": [
    "complete_link[1]"
   ]
  },
  {
   "cell_type": "markdown",
   "metadata": {
    "_cell_guid": "b7230fd0-f32b-45aa-9c58-608fad6e7f48",
    "_uuid": "a6cc2617a17dbe239ea47df40d911717d29f94d1"
   },
   "source": [
    "In the second iteration the algorithm decided to merge the clusters (original samples here as well) with indices `16` and `17`, which had a distance of `0.15501`. This again formed another cluster with a total of `2` samples.\n",
    "\n",
    "The indices of the clusters until now correspond to our samples. Remember that we had a total of 21 samples, so indices `0` to `20`. Let's have a look at the first `20` iterations:"
   ]
  },
  {
   "cell_type": "code",
   "execution_count": 12,
   "metadata": {
    "_cell_guid": "baf8b521-8019-4c25-aa9d-4df81553fae9",
    "_uuid": "ceea8cf788ce8490b1ca845d9da74967987e5b5d"
   },
   "outputs": [
    {
     "data": {
      "text/plain": [
       "array([[  2.     ,   3.     ,   0.15085,   2.     ],\n",
       "       [ 16.     ,  17.     ,   0.15501,   2.     ],\n",
       "       [ 18.     ,  19.     ,   0.16793,   2.     ],\n",
       "       [ 14.     ,  15.     ,   0.17501,   2.     ],\n",
       "       [  5.     ,   6.     ,   0.19187,   2.     ],\n",
       "       [ 12.     ,  13.     ,   0.19888,   2.     ],\n",
       "       [  7.     ,   8.     ,   0.20598,   2.     ],\n",
       "       [ 10.     ,  11.     ,   0.21264,   2.     ],\n",
       "       [ 20.     ,  23.     ,   0.35953,   3.     ],\n",
       "       [  4.     ,  25.     ,   0.40734,   3.     ],\n",
       "       [  9.     ,  27.     ,   0.41782,   3.     ],\n",
       "       [  0.     ,   1.     ,   0.47931,   2.     ],\n",
       "       [ 22.     ,  24.     ,   0.4873 ,   4.     ],\n",
       "       [ 26.     ,  28.     ,   0.61866,   4.     ],\n",
       "       [ 29.     ,  30.     ,   0.91   ,   6.     ],\n",
       "       [ 21.     ,  33.     ,   1.09587,   6.     ],\n",
       "       [ 31.     ,  34.     ,   1.2505 ,   7.     ],\n",
       "       [ 35.     ,  36.     ,   2.03924,  12.     ],\n",
       "       [ 37.     ,  38.     ,   2.19317,  19.     ],\n",
       "       [ 32.     ,  39.     ,   3.78855,  21.     ]])"
      ]
     },
     "execution_count": 12,
     "metadata": {},
     "output_type": "execute_result"
    }
   ],
   "source": [
    "complete_link[:20]"
   ]
  },
  {
   "cell_type": "markdown",
   "metadata": {
    "_cell_guid": "d80de004-eaee-464c-b3cb-b39a547703dd",
    "_uuid": "c5a21a90aff6a86fe6cdc28ed7d61bc283ce927a"
   },
   "source": [
    "We can  observe the monotonic increase of the distance."
   ]
  },
  {
   "cell_type": "markdown",
   "metadata": {
    "_cell_guid": "cc41de7b-617c-4c3e-9b7c-1b9a81218598",
    "_uuid": "c488a243499972a57149629960f98f61481d500f"
   },
   "source": [
    "> A dendrogram is a visualization in form of a tree showing the order and distances of merges during the hierarchical clustering."
   ]
  },
  {
   "cell_type": "code",
   "execution_count": 13,
   "metadata": {
    "_cell_guid": "8b6575f4-ab18-4849-83e7-06bcd55d64eb",
    "_uuid": "c19b224bca29327b7101bbbe6bb5a70942fa56ae"
   },
   "outputs": [
    {
     "data": {
      "image/png": "[encoded data removed]",
      "text/plain": [
       "<matplotlib.figure.Figure at 0x61fc4ae10>"
      ]
     },
     "metadata": {},
     "output_type": "display_data"
    }
   ],
   "source": [
    "# calculate full dendrogram\n",
    "plt.figure(figsize=(25, 10))\n",
    "plt.title('Hierarchical Clustering Dendrogram')\n",
    "plt.xlabel('sample index')\n",
    "plt.ylabel('distance')\n",
    "dendrogram(\n",
    "    complete_link,\n",
    "    leaf_rotation=90.,  # rotates the x axis labels\n",
    "    leaf_font_size=8.,  # font size for the x axis labels\n",
    "    color_threshold= 1.5\n",
    ")\n",
    "plt.show()"
   ]
  },
  {
   "cell_type": "markdown",
   "metadata": {
    "_cell_guid": "7a290c63-d9cb-4581-8dde-406d8f208319",
    "_uuid": "75a5337772de2ce85d2c46760ff1325b72758d8a"
   },
   "source": [
    "Which doesnt  relally correspond similarly to our results as well"
   ]
  },
  {
   "cell_type": "code",
   "execution_count": 14,
   "metadata": {
    "_cell_guid": "9330b86a-b2c7-46b6-b77f-8b6fcd28893b",
    "_uuid": "dbab73f1ecbec8b3e94b31a99e51cc36a8bbec90"
   },
   "outputs": [
    {
     "name": "stdout",
     "output_type": "stream",
     "text": [
      "first cluster |  second cluster |  distance\n",
      "2  |  3  |  0.15085042956518227\n",
      "15  |  16  |  0.15501250939640307\n",
      "16  |  17  |  0.1679299964569166\n",
      "13  |  14  |  0.17501291697817623\n",
      "4  |  5  |  0.19186599490269243\n",
      "10  |  11  |  0.19888079280176854\n",
      "5  |  6  |  0.20597708099371148\n",
      "7  |  8  |  0.2126411284874588\n",
      "11  |  12  |  0.35953226092257706\n",
      "3  |  4  |  0.4073438351073943\n",
      "4  |  5  |  0.4178159995817896\n",
      "0  |  1  |  0.47931424457263944\n",
      "6  |  7  |  0.4873016438456984\n",
      "4  |  5  |  0.6186579968943826\n",
      "2  |  6  |  0.9099990366171274\n",
      "1  |  5  |  1.0958744328174146\n",
      "3  |  4  |  1.2504959778494371\n"
     ]
    },
    {
     "data": {
      "image/png": "[encoded data removed]",
      "text/plain": [
       "<matplotlib.figure.Figure at 0x61fd5b4a8>"
      ]
     },
     "metadata": {},
     "output_type": "display_data"
    }
   ],
   "source": [
    "clusters = hierarchical(c1,4)\n",
    "colors = ['green', 'purple', 'teal', 'red']\n",
    "for cluster_index, cluster in enumerate(clusters):\n",
    "    for point_index, point in enumerate(cluster):\n",
    "        plt.plot([point[0]], [point[1]], marker='o', markersize=3, color=colors[cluster_index])"
   ]
  }
 ],
 "metadata": {
  "kernelspec": {
   "display_name": "Python 3",
   "language": "python",
   "name": "python3"
  },
  "language_info": {
   "codemirror_mode": {
    "name": "ipython",
    "version": 3
   },
   "file_extension": ".py",
   "mimetype": "text/x-python",
   "name": "python",
   "nbconvert_exporter": "python",
   "pygments_lexer": "ipython3",
   "version": "3.6.4"
  }
 },
 "nbformat": 4,
 "nbformat_minor": 1
}
