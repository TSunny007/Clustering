{
 "cells": [
  {
   "cell_type": "markdown",
   "metadata": {
    "_cell_guid": "95a0f564-0bc9-4e29-8985-a78150f95ff7",
    "_uuid": "31ce862a4caf5a38fe457908c211845315106f13"
   },
   "source": [
    "# TARUN SUNKARANENI'S Hierarchical and Point-Clustering Notebook"
   ]
  },
  {
   "cell_type": "code",
   "execution_count": 1,
   "metadata": {
    "_cell_guid": "b1076dfc-b9ad-4769-8c92-a6c4dae69d19",
    "_uuid": "8f2839f25d086af736a60e9eeb907d3b93b6e0e5"
   },
   "outputs": [],
   "source": [
    "import numpy as np # linear algebra\n",
    "import pandas as pd # data processing, CSV file I/O (e.g. pd.read_csv)\n",
    "from scipy.cluster.hierarchy import dendrogram, linkage\n",
    "from scipy.spatial.distance import cdist\n",
    "from matplotlib import pyplot as plt\n",
    "from scipy.spatial import distance\n",
    "import math\n",
    "%matplotlib inline\n",
    "np.set_printoptions(precision=5, suppress=True)  # suppress scientific float notation"
   ]
  },
  {
   "cell_type": "code",
   "execution_count": 2,
   "metadata": {
    "_cell_guid": "79c7e3d0-c299-4dcb-8224-4455121ee9b0",
    "_uuid": "d629ff2d2480ee46fbb7e2d37f6b5fab8052498a"
   },
   "outputs": [],
   "source": [
    "c1 = pd.read_csv(\"../input/C1.csv\", names=['x0', 'x1'])"
   ]
  },
  {
   "cell_type": "markdown",
   "metadata": {
    "_cell_guid": "351e3587-c6f7-4828-9633-49b1ae351e21",
    "_uuid": "7986cbee0e499844dd23711172eb956bd8a140a8"
   },
   "source": [
    "# Single-Link Hierarchical\n",
    "### Single-Link: measures the shortest link \n",
    "$\\displaystyle{\\textbf{d}(S_1,S_2) = \\min_{(s_1,s_2) \\in S_1 \\times S_2} \\|s_1 - s_2\\|_2}$"
   ]
  },
  {
   "cell_type": "code",
   "execution_count": 4,
   "metadata": {
    "_cell_guid": "732be8e3-36e9-427f-aba1-6774c94fd632",
    "_uuid": "60dc1e4e062975f164ed9f77dc77b0a8cc95a486"
   },
   "outputs": [
    {
     "data": {
      "text/plain": [
       "<matplotlib.collections.PathCollection at 0x10ab5ea90>"
      ]
     },
     "execution_count": 4,
     "metadata": {},
     "output_type": "execute_result"
    },
    {
     "data": {
      "image/png": "[encoded data removed]",
      "text/plain": [
       "<matplotlib.figure.Figure at 0x10aafce48>"
      ]
     },
     "metadata": {},
     "output_type": "display_data"
    }
   ],
   "source": [
    "plt.scatter(c1['x0'],c1['x1'])"
   ]
  },
  {
   "cell_type": "code",
   "execution_count": 5,
   "metadata": {
    "_cell_guid": "ed08a12f-2e46-4a07-9db7-c393d0672d54",
    "_uuid": "b51a1eec719d2c1f67aa6f3bdc294410ecc5a1d5"
   },
   "outputs": [],
   "source": [
    "def single_distance(clusters ,cluster_num):\n",
    "    print('first cluster | ','second cluster | ', 'distance')\n",
    "    while len(clusters) is not cluster_num:\n",
    "        # Clustering           (\n",
    "        closest_distance=clust_1=clust_2 = math.inf\n",
    "        # for every cluster (until second last element)\n",
    "        for cluster_id, cluster in enumerate(clusters[:len(clusters)]): \n",
    "            # for each point in each cluster\n",
    "            for point_id,point in enumerate(cluster): \n",
    "                # we only need to compare with clusters after the current one\n",
    "                for cluster2_id, cluster2 in enumerate(clusters[(cluster_id+1):]): \n",
    "                    # go through every point in this prospective cluster as well\n",
    "                    for point2_id, point2 in enumerate(cluster2):\n",
    "# if this distance is better than our previous best distance then we are going to overwrite it\n",
    "                        if distance.euclidean(point,point2) < closest_distance: \n",
    "                            # Only used for comparing \n",
    "                            closest_distance = distance.euclidean(point,point2)\n",
    "                # this will be used at the end to figure out which cluster to merge with which\n",
    "                            clust_1 = cluster_id\n",
    "                # this cluster will be destroyed by the end\n",
    "                            clust_2 = cluster2_id+cluster_id+1\n",
    "               # extend just appends the contents to the list without flattening it out\n",
    "        print(clust_1,' | ',clust_2, ' | ',closest_distance)\n",
    "        clusters[clust_1].extend(clusters[clust_2]) \n",
    "        # don't need this index anymore, and we have just clustered once more\n",
    "        clusters.pop(clust_2) \n",
    "    return(clusters)"
   ]
  },
  {
   "cell_type": "code",
   "execution_count": 6,
   "metadata": {
    "_cell_guid": "fcf579fe-4e4a-4d69-a92e-04119037ffa4",
    "_uuid": "7ac6575fef403ea9354afa2956c82a954f78f1b1"
   },
   "outputs": [],
   "source": [
    "### Hierarchical clustering\n",
    "def hierarchical(data, cluster_num, metric = 'single'):\n",
    "    # initialization of clusters at first (every point is a cluster)\n",
    "    init_clusters=[]\n",
    "    for index, row in data.iterrows():\n",
    "        init_clusters.append([[row['x0'], row['x1']]])\n",
    "    if metric is 'single':\n",
    "        return single_distance(init_clusters, cluster_num)"
   ]
  },
  {
   "cell_type": "code",
   "execution_count": 7,
   "metadata": {
    "_cell_guid": "d178b9b7-890b-4ad2-a458-bce05c7a09a2",
    "_uuid": "9d39dffabdd46bb2e36fae611cf78231ef7cabea"
   },
   "outputs": [
    {
     "name": "stdout",
     "output_type": "stream",
     "text": [
      "first cluster |  second cluster |  distance\n",
      "2  |  3  |  0.15085042956518227\n",
      "15  |  16  |  0.15501250939640307\n",
      "15  |  16  |  0.155332720189051\n",
      "14  |  15  |  0.16302722103464817\n",
      "14  |  15  |  0.1679299964569166\n",
      "13  |  14  |  0.17501291697817623\n",
      "12  |  13  |  0.18766276935111553\n",
      "4  |  5  |  0.19186599490269243\n",
      "11  |  12  |  0.19429172919524904\n",
      "10  |  11  |  0.19888079280176854\n",
      "5  |  6  |  0.20597708099371148\n",
      "8  |  9  |  0.20743622990434923\n",
      "5  |  6  |  0.21188849347451605\n",
      "6  |  7  |  0.2126411284874588\n",
      "5  |  6  |  0.21415518261316957\n",
      "3  |  4  |  0.22340895237210173\n",
      "0  |  1  |  0.47931424457263944\n"
     ]
    },
    {
     "data": {
      "image/png": "[encoded data removed]",
      "text/plain": [
       "<matplotlib.figure.Figure at 0x10ab1d1d0>"
      ]
     },
     "metadata": {},
     "output_type": "display_data"
    }
   ],
   "source": [
    "clusters = hierarchical(c1,4)\n",
    "colors = ['blue', 'red', 'purple', 'teal']\n",
    "for cluster_index, cluster in enumerate(clusters):\n",
    "    for point_index, point in enumerate(cluster):\n",
    "        plt.plot([point[0]], [point[1]], marker='o', markersize=3, color=colors[cluster_index])"
   ]
  },
  {
   "cell_type": "markdown",
   "metadata": {
    "_cell_guid": "37c15a51-988b-4e19-bff4-772e895ae373",
    "_uuid": "a45109da7f08f18942887a6342cccb7102c8562a"
   },
   "source": [
    "> # Validation "
   ]
  },
  {
   "cell_type": "markdown",
   "metadata": {
    "_cell_guid": "aefde9ae-a790-47ea-ad9f-bc32bf0f35c9",
    "_uuid": "f85cdfc72ea66fb272725ed9fcae98cd13aa2ecb"
   },
   "source": [
    "Credit to [https://joernhees.de/blog/2015/08/26/scipy-hierarchical-clustering-and-dendrogram-tutorial/](http://) for this Validation portion"
   ]
  },
  {
   "cell_type": "code",
   "execution_count": 8,
   "metadata": {
    "_cell_guid": "ff676b94-11b6-4cc2-a275-205a7940d37d",
    "_uuid": "8e48fe89504b6ef77441535a9b230673dac14794"
   },
   "outputs": [],
   "source": [
    "X = c1.as_matrix()\n",
    "# generate the linkage matrix\n",
    "single_link = linkage(X, 'single') # using single link metric to evaluate 'distance' between clusters"
   ]
  },
  {
   "cell_type": "markdown",
   "metadata": {
    "_cell_guid": "c0162828-06ec-4f46-ba05-28bb8969dbb9",
    "_uuid": "acf53a1520f601fdee9af85c9560c52d764f63ba"
   },
   "source": [
    " As you can see there's a lot of choice here and while python and scipy make it very easy to do the clustering, it's you who has to understand and make these choices.. This  compares the actual pairwise distances of all your samples to those implied by the hierarchical clustering. \n",
    " > The closer the value is to `1`, the better the clustering preserves the original distances, which in our case is reasonably close:"
   ]
  },
  {
   "cell_type": "code",
   "execution_count": 9,
   "metadata": {
    "_cell_guid": "942dbb47-8294-4c31-823c-2178063886ee",
    "_uuid": "6802058ae18b8002ce53f49d3c1410cf69453fac"
   },
   "outputs": [],
   "source": [
    "from scipy.cluster.hierarchy import cophenet\n",
    "from scipy.spatial.distance import pdist"
   ]
  },
  {
   "cell_type": "code",
   "execution_count": 10,
   "metadata": {
    "_cell_guid": "894af22d-3b90-46ca-9cea-fa9a66d4bd9c",
    "_uuid": "c69eed9cdc59a4aa5aea86c63baec10c9aa3587f"
   },
   "outputs": [
    {
     "data": {
      "text/plain": [
       "0.74321649752980556"
      ]
     },
     "execution_count": 10,
     "metadata": {},
     "output_type": "execute_result"
    }
   ],
   "source": [
    "c, coph_dists = cophenet(single_link, pdist(X))\n",
    "c"
   ]
  },
  {
   "cell_type": "markdown",
   "metadata": {
    "_cell_guid": "fda7583d-1474-47c5-b2ed-b93e6f1b5e1d",
    "_uuid": "cb8092526b39fcd25d49c25a3446fcbfbcda79e3"
   },
   "source": [
    "No matter what method and metric you pick, the linkage() function will use that method and metric to calculate the distances of the clusters (starting with your n individual samples (aka data points) as singleton clusters)) and in each iteration will merge the two clusters which have the smallest distance according the selected method and metric. It will return an array of length `n - 1` giving you information about the `n - 1` cluster merges which it needs to pairwise merge n clusters. `single_link[i]` will tell us which clusters were merged in the i-th iteration, let's take a look at the first two points that were merged:"
   ]
  },
  {
   "cell_type": "code",
   "execution_count": 11,
   "metadata": {
    "_cell_guid": "5d04913a-12fb-47a0-8952-a908b6d013dd",
    "_uuid": "a284d47c714e72d37e8c55dd0088dc066e797175"
   },
   "outputs": [
    {
     "data": {
      "text/plain": [
       "array([ 2.     ,  3.     ,  0.15085,  2.     ])"
      ]
     },
     "execution_count": 11,
     "metadata": {},
     "output_type": "execute_result"
    }
   ],
   "source": [
    "single_link[0]"
   ]
  },
  {
   "cell_type": "markdown",
   "metadata": {
    "_cell_guid": "08cdbd35-4914-4917-94b2-dcd33fafdf21",
    "_uuid": "b98b22bb6ec6f5f0d4c419cc6b21acb67a523be9"
   },
   "source": [
    "In its first iteration the linkage algorithm decided to merge the two clusters  with indices `2` and `3`, as they only had a distance of `0.15085`. This created a cluster with a total of `2` samples. \n",
    "> We can see that each row of the resulting array has the format `[idx1, idx2, dist, sample_count].`\n",
    "\n",
    "\n"
   ]
  },
  {
   "cell_type": "code",
   "execution_count": 12,
   "metadata": {
    "_cell_guid": "e2716e17-9819-4507-9974-61c8df7d8b59",
    "_uuid": "ded6e0655cb223daf3002b108878cb38598d6254"
   },
   "outputs": [
    {
     "data": {
      "text/plain": [
       "array([ 16.     ,  17.     ,   0.15501,   2.     ])"
      ]
     },
     "execution_count": 12,
     "metadata": {},
     "output_type": "execute_result"
    }
   ],
   "source": [
    "single_link[1]"
   ]
  },
  {
   "cell_type": "markdown",
   "metadata": {
    "_cell_guid": "27543935-ec8e-4820-acbf-3f638af6a7ae",
    "_uuid": "334e640a4e9470a106efed5ae0e7990c5885bbe9"
   },
   "source": [
    "In the second iteration the algorithm decided to merge the clusters (original samples here as well) with indices `16` and `17`, which had a distance of `0.15501`. This again formed another cluster with a total of `2` samples.\n",
    "\n",
    "The indices of the clusters until now correspond to our samples. Remember that we had a total of 21 samples, so indices `0` to `20`. Let's have a look at the first `20` iterations:"
   ]
  },
  {
   "cell_type": "code",
   "execution_count": 13,
   "metadata": {
    "_cell_guid": "ff96fc25-6429-4540-bc95-a47246d66e58",
    "_uuid": "e9e7269195fd0c7f050d77362f2925b4f380f2f3"
   },
   "outputs": [
    {
     "data": {
      "text/plain": [
       "array([[  2.     ,   3.     ,   0.15085,   2.     ],\n",
       "       [ 16.     ,  17.     ,   0.15501,   2.     ],\n",
       "       [ 18.     ,  22.     ,   0.15533,   3.     ],\n",
       "       [ 15.     ,  23.     ,   0.16303,   4.     ],\n",
       "       [ 19.     ,  24.     ,   0.16793,   5.     ],\n",
       "       [ 14.     ,  25.     ,   0.17501,   6.     ],\n",
       "       [ 13.     ,  26.     ,   0.18766,   7.     ],\n",
       "       [  5.     ,   6.     ,   0.19187,   2.     ],\n",
       "       [ 20.     ,  27.     ,   0.19429,   8.     ],\n",
       "       [ 12.     ,  29.     ,   0.19888,   9.     ],\n",
       "       [  7.     ,   8.     ,   0.20598,   2.     ],\n",
       "       [ 11.     ,  30.     ,   0.20744,  10.     ],\n",
       "       [  9.     ,  31.     ,   0.21189,   3.     ],\n",
       "       [ 10.     ,  32.     ,   0.21264,  11.     ],\n",
       "       [ 33.     ,  34.     ,   0.21416,  14.     ],\n",
       "       [  4.     ,  28.     ,   0.22341,   3.     ],\n",
       "       [  0.     ,   1.     ,   0.47931,   2.     ],\n",
       "       [ 35.     ,  36.     ,   0.68347,  17.     ],\n",
       "       [ 21.     ,  38.     ,   0.83226,  19.     ],\n",
       "       [ 37.     ,  39.     ,   1.37181,  21.     ]])"
      ]
     },
     "execution_count": 13,
     "metadata": {},
     "output_type": "execute_result"
    }
   ],
   "source": [
    "single_link[:20]"
   ]
  },
  {
   "cell_type": "markdown",
   "metadata": {
    "_cell_guid": "0e71367a-c7a0-49e5-866b-35ff2dc0b84f",
    "_uuid": "1e33e53f1098a7add3aea9053b955e8ac2175862"
   },
   "source": [
    "We can  observe the monotonic increase of the distance. This is also similar to the results we had with our run. Note that out algorithm with `4` clusters ends at the distance of `0.47` ish, whereas the above information pertains to finishing with `1` cluster.\n",
    "\n",
    "Our Output:\n",
    "\n",
    "`first cluster |  second cluster |  distance\n",
    "2  |  3  |  0.15085042956518227\n",
    "15  |  16  |  0.15501250939640307\n",
    "15  |  16  |  0.155332720189051\n",
    "14  |  15  |  0.16302722103464817\n",
    "14  |  15  |  0.1679299964569166\n",
    "13  |  14  |  0.17501291697817623\n",
    "12  |  13  |  0.18766276935111553\n",
    "4  |  5  |  0.19186599490269243\n",
    "11  |  12  |  0.19429172919524904\n",
    "10  |  11  |  0.19888079280176854\n",
    "5  |  6  |  0.20597708099371148\n",
    "8  |  9  |  0.20743622990434923\n",
    "5  |  6  |  0.21188849347451605\n",
    "6  |  7  |  0.2126411284874588\n",
    "5  |  6  |  0.21415518261316957\n",
    "3  |  4  |  0.22340895237210173\n",
    "0  |  1  |  0.47931424457263944`"
   ]
  },
  {
   "cell_type": "markdown",
   "metadata": {
    "_cell_guid": "c23918b0-4359-45ea-a680-7a9caa57b9bd",
    "_uuid": "648166977529ccb31d4d301655f5f76c13bf55f8"
   },
   "source": [
    "## Dendogram\n",
    "> A dendrogram is a visualization in form of a tree showing the order and distances of merges during the hierarchical clustering."
   ]
  },
  {
   "cell_type": "code",
   "execution_count": 14,
   "metadata": {
    "_cell_guid": "551e1655-5fca-4ee5-8496-0bca0f88e4f9",
    "_uuid": "3f11903f03aa1dd062f415abf2818643984c2520"
   },
   "outputs": [
    {
     "data": {
      "image/png": "[encoded data removed]",
      "text/plain": [
       "<matplotlib.figure.Figure at 0x10de669b0>"
      ]
     },
     "metadata": {},
     "output_type": "display_data"
    }
   ],
   "source": [
    "# calculate full dendrogram\n",
    "plt.figure(figsize=(25, 10))\n",
    "plt.title('Hierarchical Clustering Dendrogram')\n",
    "plt.xlabel('sample index')\n",
    "plt.ylabel('distance')\n",
    "dendrogram(\n",
    "    single_link,\n",
    "    leaf_rotation=90.,  # rotates the x axis labels\n",
    "    leaf_font_size=8.,  # font size for the x axis labels\n",
    "    color_threshold= .6\n",
    ")\n",
    "plt.show()"
   ]
  },
  {
   "cell_type": "markdown",
   "metadata": {
    "_cell_guid": "46453f4a-2a5a-487e-90a1-05b02c07eefb",
    "_uuid": "d18e8a9fb385e496c3ac60ed3382b8dd3b92c149"
   },
   "source": [
    "Which actually corresponds to our results as well (pasted from top again)"
   ]
  },
  {
   "cell_type": "code",
   "execution_count": 15,
   "metadata": {
    "_cell_guid": "e9f50e04-3a22-4934-9a48-95515eacd96d",
    "_uuid": "5f6a86e038f60f9160fe22e95a0b47ab089949a9"
   },
   "outputs": [
    {
     "name": "stdout",
     "output_type": "stream",
     "text": [
      "first cluster |  second cluster |  distance\n",
      "2  |  3  |  0.15085042956518227\n",
      "15  |  16  |  0.15501250939640307\n",
      "15  |  16  |  0.155332720189051\n",
      "14  |  15  |  0.16302722103464817\n",
      "14  |  15  |  0.1679299964569166\n",
      "13  |  14  |  0.17501291697817623\n",
      "12  |  13  |  0.18766276935111553\n",
      "4  |  5  |  0.19186599490269243\n",
      "11  |  12  |  0.19429172919524904\n",
      "10  |  11  |  0.19888079280176854\n",
      "5  |  6  |  0.20597708099371148\n",
      "8  |  9  |  0.20743622990434923\n",
      "5  |  6  |  0.21188849347451605\n",
      "6  |  7  |  0.2126411284874588\n",
      "5  |  6  |  0.21415518261316957\n",
      "3  |  4  |  0.22340895237210173\n",
      "0  |  1  |  0.47931424457263944\n"
     ]
    },
    {
     "data": {
      "image/png": "[encoded data removed]",
      "text/plain": [
       "<matplotlib.figure.Figure at 0x10df3ee10>"
      ]
     },
     "metadata": {},
     "output_type": "display_data"
    }
   ],
   "source": [
    "clusters = hierarchical(c1,4)\n",
    "colors = ['blue', 'red', 'purple', 'teal']\n",
    "for cluster_index, cluster in enumerate(clusters):\n",
    "    for point_index, point in enumerate(cluster):\n",
    "        plt.plot([point[0]], [point[1]], marker='o', markersize=3, color=colors[cluster_index])"
   ]
  }
 ],
 "metadata": {
  "kernelspec": {
   "display_name": "Python 3",
   "language": "python",
   "name": "python3"
  },
  "language_info": {
   "codemirror_mode": {
    "name": "ipython",
    "version": 3
   },
   "file_extension": ".py",
   "mimetype": "text/x-python",
   "name": "python",
   "nbconvert_exporter": "python",
   "pygments_lexer": "ipython3",
   "version": "3.6.4"
  }
 },
 "nbformat": 4,
 "nbformat_minor": 1
}
